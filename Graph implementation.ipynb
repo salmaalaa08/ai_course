{
 "cells": [
  {
   "cell_type": "code",
   "execution_count": 1,
   "id": "1d6a1e5d",
   "metadata": {},
   "outputs": [
    {
     "name": "stdout",
     "output_type": "stream",
     "text": [
      "['d', 'a', 'c']\n"
     ]
    }
   ],
   "source": [
    "graph = {\n",
    "    'a': ['c'],\n",
    "    'b': ['d'],\n",
    "    'c': ['e'],\n",
    "    'd': ['a', 'd'],\n",
    "    'e': ['b', 'c']\n",
    "}  \n",
    "def find_path(graph, start, end, path=[]):\n",
    "    path = path + [start]\n",
    "    if start == end:\n",
    "        return path\n",
    "    for node in graph[start]:\n",
    "        if node not in path:\n",
    "            newpath = find_path(graph, node, end, path)\n",
    "            if newpath:\n",
    "                return newpath\n",
    "print(find_path(graph, 'd', 'c'))"
   ]
  }
 ],
 "metadata": {
  "kernelspec": {
   "display_name": "Python 3 (ipykernel)",
   "language": "python",
   "name": "python3"
  },
  "language_info": {
   "codemirror_mode": {
    "name": "ipython",
    "version": 3
   },
   "file_extension": ".py",
   "mimetype": "text/x-python",
   "name": "python",
   "nbconvert_exporter": "python",
   "pygments_lexer": "ipython3",
   "version": "3.11.3"
  }
 },
 "nbformat": 4,
 "nbformat_minor": 5
}
