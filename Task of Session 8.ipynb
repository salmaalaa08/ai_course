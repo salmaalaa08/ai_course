{
 "cells": [
  {
   "cell_type": "code",
   "execution_count": 1,
   "id": "f07e8afb",
   "metadata": {},
   "outputs": [],
   "source": [
    "import re"
   ]
  },
  {
   "cell_type": "code",
   "execution_count": 2,
   "id": "0fb66f55",
   "metadata": {},
   "outputs": [
    {
     "data": {
      "text/plain": [
       "'Ahmed Hafez 0102345678 ahmed@gmail.com\\nAli Osama 0124342342 ali@gmail.com'"
      ]
     },
     "execution_count": 2,
     "metadata": {},
     "output_type": "execute_result"
    }
   ],
   "source": [
    "with open(\"task.txt\", \"r\") as file:\n",
    "    contents = file.read()\n",
    "contents"
   ]
  },
  {
   "cell_type": "code",
   "execution_count": 7,
   "id": "2c7453f5",
   "metadata": {},
   "outputs": [
    {
     "data": {
      "text/plain": [
       "['Ahmed Hafez', 'Ali Osama']"
      ]
     },
     "execution_count": 7,
     "metadata": {},
     "output_type": "execute_result"
    }
   ],
   "source": [
    "pattern = re.compile(r'([A-Z][a-z]+(?: [A-Z][a-z]\\.)? [A-Z][a-z]+)')\n",
    "Name = pattern.findall(contents)\n",
    "print(Name)"
   ]
  },
  {
   "cell_type": "code",
   "execution_count": 4,
   "id": "c0fa79ab",
   "metadata": {},
   "outputs": [
    {
     "name": "stdout",
     "output_type": "stream",
     "text": [
      "['0102345678', '0124342342']\n"
     ]
    }
   ],
   "source": [
    "pattern = re.compile(r\"01\\d\\d\\d\\d\\d\\d\\d\\d\")\n",
    "Number = pattern.findall(contents)\n",
    "print(Number)"
   ]
  },
  {
   "cell_type": "code",
   "execution_count": 5,
   "id": "03ab7be2",
   "metadata": {},
   "outputs": [
    {
     "name": "stdout",
     "output_type": "stream",
     "text": [
      "['ahmed@gmail.com', 'ali@gmail.com']\n"
     ]
    }
   ],
   "source": [
    "pattern = re.compile(r'[a-zA-Z]+@[a-zA-Z]+\\.com')\n",
    "Email = pattern.findall(contents)\n",
    "print(Email)"
   ]
  },
  {
   "cell_type": "code",
   "execution_count": 6,
   "id": "c47ea2ae",
   "metadata": {},
   "outputs": [],
   "source": [
    "Names = []\n",
    "Numbers = []\n",
    "Mails = []"
   ]
  },
  {
   "cell_type": "code",
   "execution_count": 8,
   "id": "3d5e930a",
   "metadata": {},
   "outputs": [
    {
     "data": {
      "text/plain": [
       "[['Ahmed Hafez', 'Ali Osama']]"
      ]
     },
     "execution_count": 8,
     "metadata": {},
     "output_type": "execute_result"
    }
   ],
   "source": [
    "Names.append(Name)\n",
    "Names"
   ]
  },
  {
   "cell_type": "code",
   "execution_count": 9,
   "id": "66f6f623",
   "metadata": {},
   "outputs": [
    {
     "data": {
      "text/plain": [
       "[['0102345678', '0124342342']]"
      ]
     },
     "execution_count": 9,
     "metadata": {},
     "output_type": "execute_result"
    }
   ],
   "source": [
    "Numbers.append(Number)\n",
    "Numbers"
   ]
  },
  {
   "cell_type": "code",
   "execution_count": 10,
   "id": "a9e53b14",
   "metadata": {},
   "outputs": [
    {
     "data": {
      "text/plain": [
       "[['ahmed@gmail.com', 'ali@gmail.com']]"
      ]
     },
     "execution_count": 10,
     "metadata": {},
     "output_type": "execute_result"
    }
   ],
   "source": [
    "Mails.append(Email)\n",
    "Mails"
   ]
  }
 ],
 "metadata": {
  "kernelspec": {
   "display_name": "Python 3 (ipykernel)",
   "language": "python",
   "name": "python3"
  },
  "language_info": {
   "codemirror_mode": {
    "name": "ipython",
    "version": 3
   },
   "file_extension": ".py",
   "mimetype": "text/x-python",
   "name": "python",
   "nbconvert_exporter": "python",
   "pygments_lexer": "ipython3",
   "version": "3.11.3"
  }
 },
 "nbformat": 4,
 "nbformat_minor": 5
}
